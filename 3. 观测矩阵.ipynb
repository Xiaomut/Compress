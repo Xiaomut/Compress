{
 "cells": [
  {
   "cell_type": "code",
   "execution_count": 1,
   "metadata": {},
   "outputs": [],
   "source": [
    "import cv2\n",
    "import numpy as np\n",
    "import matplotlib.pyplot as plt\n",
    "from scipy.io import loadmat\n",
    "%matplotlib inline"
   ]
  },
  {
   "cell_type": "code",
   "execution_count": 56,
   "metadata": {},
   "outputs": [],
   "source": [
    "A_data = loadmat('X:/Course/压缩感知/datas/A.mat')\n",
    "measurement_data = loadmat('X:/Course/压缩感知/datas/measurement1.mat')\n",
    "sparse_data = loadmat('X:/Course/压缩感知/datas/sparse1.mat')"
   ]
  },
  {
   "cell_type": "code",
   "execution_count": 57,
   "metadata": {},
   "outputs": [],
   "source": [
    "A_data = A_data.get('A') \n",
    "measurement_data = measurement_data.get('A')\n",
    "sparse_data = sparse_data.get('x0')"
   ]
  },
  {
   "cell_type": "code",
   "execution_count": 58,
   "metadata": {
    "scrolled": true
   },
   "outputs": [
    {
     "data": {
      "text/plain": [
       "((2048, 5616), (5616, 1))"
      ]
     },
     "execution_count": 58,
     "metadata": {},
     "output_type": "execute_result"
    }
   ],
   "source": [
    "measurement_data.shape, sparse_data.shape"
   ]
  },
  {
   "cell_type": "markdown",
   "metadata": {},
   "source": [
    "## RIP"
   ]
  },
  {
   "cell_type": "code",
   "execution_count": 54,
   "metadata": {},
   "outputs": [
    {
     "data": {
      "text/plain": [
       "5616"
      ]
     },
     "execution_count": 54,
     "metadata": {},
     "output_type": "execute_result"
    }
   ],
   "source": [
    "import scipy.io.wavfile as wf\n",
    "\n",
    "sample_rate, sigs = wf.read('./datas/temp.wav')\n",
    "times = abs(np.arange(sigs.size / 2 ) / sample_rate)\n",
    "sigs = sigs[100000:105616, 0]\n",
    "length = len(sigs)\n",
    "index = list(range(length))\n",
    "length"
   ]
  },
  {
   "cell_type": "code",
   "execution_count": 55,
   "metadata": {
    "scrolled": true
   },
   "outputs": [
    {
     "data": {
      "text/plain": [
       "[<matplotlib.lines.Line2D at 0x2a49f0aeef0>]"
      ]
     },
     "execution_count": 55,
     "metadata": {},
     "output_type": "execute_result"
    },
    {
     "data": {
      "image/png": "[encoded data removed]",
      "text/plain": [
       "<Figure size 432x288 with 1 Axes>"
      ]
     },
     "metadata": {
      "needs_background": "light"
     },
     "output_type": "display_data"
    }
   ],
   "source": [
    "plt.plot(index, sigs)"
   ]
  },
  {
   "cell_type": "markdown",
   "metadata": {},
   "source": [
    "$$c = \\frac{1}{1 + \\sqrt{k}}$$\n",
    "\n",
    "$$M>cKlog\\frac{N}{K}$$ </br>\n",
    "\n",
    "$$(1-c)x^{2}_{2}<(Tx)_{2}^{2}<(1+c)x^{2}_{2}$$"
   ]
  },
  {
   "cell_type": "code",
   "execution_count": 156,
   "metadata": {},
   "outputs": [
    {
     "data": {
      "text/plain": [
       "False"
      ]
     },
     "execution_count": 156,
     "metadata": {},
     "output_type": "execute_result"
    }
   ],
   "source": [
    "mea_matrix = np.random.randn(2048, length)\n",
    "# mea_matrix = measurement_data[...]\n",
    "k = np.linalg.norm(sigs, ord=0, axis=0).item()\n",
    "y_mea = np.dot(mea_matrix, sigs)\n",
    "# c = 1 / (np.sqrt(k) + 1)\n",
    "# print(c)\n",
    "c = 0.002\n",
    "\n",
    "norm2 = np.linalg.norm(sigs)\n",
    "y2 = np.dot(y_mea.reshape(-1,1), sigs.reshape(1,-1))\n",
    "(1-c)*norm2 < np.linalg.norm(y2) < (1+c)*norm2 "
   ]
  },
  {
   "cell_type": "markdown",
   "metadata": {},
   "source": [
    "## OMP\n",
    "---\n",
    "\n"
   ]
  },
  {
   "cell_type": "code",
   "execution_count": 1,
   "metadata": {},
   "outputs": [],
   "source": [
    "\"\"\"\n",
    "这一block内借用了网上的部分代码\n",
    "\"\"\"\n",
    "import numpy as np\n",
    "\n",
    "def omp(y, Y, K):\n",
    "    residual = y \n",
    "    M, N = Y.shape\n",
    "    index = np.zeros(N, dtype=int)\n",
    "    for i in range(N):\n",
    "        index[i] = -1\n",
    "    result = np.zeros((N, 1))\n",
    "    for j in range(K):\n",
    "        product = np.fabs(np.dot(Y.T, residual))\n",
    "        pos = np.argmax(product)   \n",
    "        index[pos] = 1\n",
    "        my = np.linalg.pinv(Y[:, index>=0])\n",
    "        a = np.dot(my, y)\n",
    "        residual = y-np.dot(Y[:, index>=0], a)\n",
    "    result[index>=0] = a\n",
    "    index_nums = np.where(index>=0)\n",
    "\n",
    "    return result, index_nums"
   ]
  },
  {
   "cell_type": "code",
   "execution_count": 19,
   "metadata": {},
   "outputs": [],
   "source": [
    "X = np.array([[1,0,0,2,0,0,0,0]])\n",
    "Y = loadmat('X:/Course/压缩感知/datas/OMP/matlab1.mat').get('A')\n",
    "# Y.shape, X.shape"
   ]
  },
  {
   "cell_type": "code",
   "execution_count": 20,
   "metadata": {
    "scrolled": true
   },
   "outputs": [
    {
     "name": "stdout",
     "output_type": "stream",
     "text": [
      "The error is: 3.521363372331802\n"
     ]
    }
   ],
   "source": [
    "# 获得初始化y\n",
    "y = np.dot(Y, X.T)\n",
    "# 使用0范数求稀疏度\n",
    "K = np.linalg.norm(X, ord=0, axis=1).item()\n",
    "\n",
    "x_pre, candidate = omp(y, Y, int(K))\n",
    "# print(x_pre, candidate)\n",
    "\n",
    "error = np.linalg.norm(X-x_pre)/np.linalg.norm(X)\n",
    "print('The error is:', error)"
   ]
  },
  {
   "cell_type": "code",
   "execution_count": 21,
   "metadata": {},
   "outputs": [
    {
     "name": "stdout",
     "output_type": "stream",
     "text": [
      "The result is:  [[1. 0. 0. 2. 0. 0. 0. 0.]]\n",
      "The error is: 3.521363372331802\n"
     ]
    },
    {
     "data": {
      "text/plain": [
       "array([[1., 0., 0., 2., 0., 0., 0., 0.]])"
      ]
     },
     "execution_count": 21,
     "metadata": {},
     "output_type": "execute_result"
    }
   ],
   "source": [
    "def predict(X, Y):\n",
    "    # 初始化\n",
    "    y = np.dot(Y, X.T)\n",
    "    # 稀疏度、迭代次数\n",
    "    K = np.linalg.norm(X, ord=0, axis=1).item()\n",
    "    # 计算结果\n",
    "    x_pre, index = omp(y, Y, int(K))\n",
    "    print('The result is: ', x_pre.T)\n",
    "\n",
    "    return x_pre.T\n",
    "\n",
    "predict(X, Y)"
   ]
  },
  {
   "cell_type": "code",
   "execution_count": 22,
   "metadata": {},
   "outputs": [
    {
     "data": {
      "image/png": "[encoded data removed]",
      "text/plain": [
       "<Figure size 432x288 with 1 Axes>"
      ]
     },
     "metadata": {
      "needs_background": "light"
     },
     "output_type": "display_data"
    }
   ],
   "source": [
    "index = list(range(len(X[0])))\n",
    "index\n",
    "for i in index:\n",
    "    plt.plot([i, i], [0, X[0,i]])"
   ]
  },
  {
   "cell_type": "markdown",
   "metadata": {},
   "source": [
    "## 迭代的第一次"
   ]
  },
  {
   "cell_type": "code",
   "execution_count": 23,
   "metadata": {},
   "outputs": [
    {
     "data": {
      "text/plain": [
       "matrix([[-2.84765426],\n",
       "        [-0.45746126],\n",
       "        [-1.19778756],\n",
       "        [ 0.37494756]])"
      ]
     },
     "execution_count": 23,
     "metadata": {},
     "output_type": "execute_result"
    }
   ],
   "source": [
    "# 1. 初始化r0\n",
    "r0 = np.dot(Y, X.reshape(8,1))\n",
    "\n",
    "# 2. 求出最大列向量\n",
    "datas = []\n",
    "for col in range(Y.shape[0]):\n",
    "    datas.append(np.dot(Y[col, :].reshape(1,8), X.reshape(8,1)))\n",
    "index = np.argmax(datas)\n",
    "\n",
    "# 3. 求出最小二乘解\n",
    "A1 = Y[:, index]\n",
    "x1_hat = np.matrix(np.dot(A1, A1.T)).I * np.dot(A1.T, r0)\n",
    "x1_hat\n",
    "\n",
    "# 4. 更新残差\n",
    "r1 = r0 - np.dot(A1.reshape(4,1), x1_hat)\n",
    "r1"
   ]
  },
  {
   "cell_type": "markdown",
   "metadata": {},
   "source": [
    "## 更换矩阵"
   ]
  },
  {
   "cell_type": "code",
   "execution_count": 24,
   "metadata": {},
   "outputs": [
    {
     "name": "stdout",
     "output_type": "stream",
     "text": [
      "The result is:  [[0.         0.         0.         0.         1.18221322 1.58430397\n",
      "  1.08469573 0.        ]]\n",
      "The error is: 2.7575758116812774\n",
      "[[False  True  True False False False False  True]]\n"
     ]
    },
    {
     "data": {
      "image/png": "[encoded data removed]",
      "text/plain": [
       "<Figure size 720x288 with 2 Axes>"
      ]
     },
     "metadata": {
      "needs_background": "light"
     },
     "output_type": "display_data"
    }
   ],
   "source": [
    "X2 = np.array([[1,0,0,2,0,0,3,0]])\n",
    "X2_hat = predict(X2, Y)\n",
    "print(X2 == X2_hat)\n",
    "\n",
    "index = list(range(len(X[0])))\n",
    "\n",
    "plt.figure(figsize=(10,4))\n",
    "plt.subplot(121)\n",
    "for i in index:\n",
    "    plt.plot([i, i], [0, X2[0,i]])\n",
    "    \n",
    "plt.subplot(122)\n",
    "for i in index:\n",
    "    plt.plot([i, i], [0, X2_hat[0,i]])"
   ]
  },
  {
   "cell_type": "markdown",
   "metadata": {},
   "source": [
    "### 条件判断\n",
    "\n",
    "$$M>cKlog\\frac{N}{K}$$ </br>\n",
    "$$(1-c)x^{2}_{2}<(Tx)_{2}^{2}<(1+c)x^{2}_{2}$$"
   ]
  },
  {
   "cell_type": "code",
   "execution_count": 25,
   "metadata": {},
   "outputs": [
    {
     "data": {
      "text/plain": [
       "False"
      ]
     },
     "execution_count": 25,
     "metadata": {},
     "output_type": "execute_result"
    }
   ],
   "source": [
    "M = 3\n",
    "(1/24)*3*np.log2((8/3)) < M\n",
    "\n",
    "norm2 = np.linalg.norm(X2)\n",
    "y2 = np.dot(Y, X2.T)\n",
    "(1-1/24)*norm2 < np.linalg.norm(y2) < (1+1/24)*norm2 "
   ]
  },
  {
   "cell_type": "code",
   "execution_count": 26,
   "metadata": {},
   "outputs": [
    {
     "name": "stdout",
     "output_type": "stream",
     "text": [
      "(8, 1)\n",
      "The result is:  [[0.         0.38956819 0.         0.         0.62957779 0.\n",
      "  2.75258788 0.        ]]\n",
      "The error is: 3.06755098370384\n"
     ]
    },
    {
     "data": {
      "text/plain": [
       "array([[0.        , 0.38956819, 0.        , 0.        , 0.62957779,\n",
       "        0.        , 2.75258788, 0.        ]])"
      ]
     },
     "execution_count": 26,
     "metadata": {},
     "output_type": "execute_result"
    }
   ],
   "source": [
    "Y2_new = np.random.randn(8, 8)\n",
    "y2_new = np.dot(Y2_new, X2.T)\n",
    "print(y2_new.shape)\n",
    "# c = 1 / (np.sqrt(3) + 1)\n",
    "X2_hat_new = predict(X2, Y2_new)\n",
    "X2_hat_new"
   ]
  },
  {
   "cell_type": "code",
   "execution_count": 75,
   "metadata": {},
   "outputs": [
    {
     "data": {
      "image/png": "[encoded data removed]",
      "text/plain": [
       "<Figure size 720x288 with 2 Axes>"
      ]
     },
     "metadata": {
      "needs_background": "light"
     },
     "output_type": "display_data"
    }
   ],
   "source": [
    "plt.figure(figsize=(10,4))\n",
    "plt.subplot(121)\n",
    "for i in index:\n",
    "    plt.plot([i, i], [0, X2[0,i]])\n",
    "    \n",
    "plt.subplot(122)\n",
    "for i in index:\n",
    "    plt.plot([i, i], [0, X2_hat_new[0,i]])"
   ]
  },
  {
   "cell_type": "code",
   "execution_count": 74,
   "metadata": {},
   "outputs": [
    {
     "name": "stdout",
     "output_type": "stream",
     "text": [
      "The result is:  [[1. 0. 0. 2. 0. 0. 3. 0.]]\n",
      "The error is: 3.295017884191656\n"
     ]
    },
    {
     "data": {
      "text/plain": [
       "array([[1., 0., 0., 2., 0., 0., 3., 0.]])"
      ]
     },
     "execution_count": 74,
     "metadata": {},
     "output_type": "execute_result"
    }
   ],
   "source": [
    "Y2_new_2 = np.random.randn(8, 8)\n",
    "X2_hat_new = predict(X2, Y2_new_2)\n",
    "X2_hat_new"
   ]
  },
  {
   "cell_type": "code",
   "execution_count": null,
   "metadata": {},
   "outputs": [],
   "source": []
  }
 ],
 "metadata": {
  "kernelspec": {
   "display_name": "Python [conda env:study] *",
   "language": "python",
   "name": "conda-env-study-py"
  },
  "language_info": {
   "codemirror_mode": {
    "name": "ipython",
    "version": 3
   },
   "file_extension": ".py",
   "mimetype": "text/x-python",
   "name": "python",
   "nbconvert_exporter": "python",
   "pygments_lexer": "ipython3",
   "version": "3.6.12"
  }
 },
 "nbformat": 4,
 "nbformat_minor": 4
}
